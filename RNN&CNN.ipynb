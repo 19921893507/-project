{
  "nbformat": 4,
  "nbformat_minor": 0,
  "metadata": {
    "colab": {
      "name": "project3.ipynb",
      "version": "0.3.2",
      "provenance": [],
      "collapsed_sections": [],
      "toc_visible": true,
      "include_colab_link": true
    },
    "kernelspec": {
      "name": "python3",
      "display_name": "Python 3"
    }
  },
  "cells": [
    {
      "cell_type": "markdown",
      "metadata": {
        "id": "view-in-github",
        "colab_type": "text"
      },
      "source": [
        "<a href=\"https://colab.research.google.com/github/19921893507/-project/blob/project-3/RNN%26CNN.ipynb\" target=\"_parent\"><img src=\"https://colab.research.google.com/assets/colab-badge.svg\" alt=\"Open In Colab\"/></a>"
      ]
    },
    {
      "cell_type": "markdown",
      "metadata": {
        "id": "XQK8yleivQYO",
        "colab_type": "text"
      },
      "source": [
        ""
      ]
    },
    {
      "cell_type": "code",
      "metadata": {
        "id": "sB84D3E0MGFn",
        "colab_type": "code",
        "outputId": "8c57345a-6daf-497d-b834-8aee35c15f4c",
        "colab": {
          "base_uri": "https://localhost:8080/",
          "height": 34
        }
      },
      "source": [
        "from google.colab import drive\n",
        "drive.mount('/content/drive/')"
      ],
      "execution_count": 27,
      "outputs": [
        {
          "output_type": "stream",
          "text": [
            "Drive already mounted at /content/drive/; to attempt to forcibly remount, call drive.mount(\"/content/drive/\", force_remount=True).\n"
          ],
          "name": "stdout"
        }
      ]
    },
    {
      "cell_type": "code",
      "metadata": {
        "id": "nkTaDH3jPZ__",
        "colab_type": "code",
        "colab": {}
      },
      "source": [
        "import os\n",
        "os.chdir(\"/content/drive/My Drive/Colab Notebooks\")"
      ],
      "execution_count": 0,
      "outputs": []
    },
    {
      "cell_type": "code",
      "metadata": {
        "id": "Wd05TV37PvKJ",
        "colab_type": "code",
        "colab": {}
      },
      "source": [
        "import numpy as np\n",
        "import tensorflow as tf\n",
        "import keras\n",
        "from keras import layers\n",
        "from keras.models import Model\n",
        "from keras.models import Sequential\n",
        "from keras.layers import Input, Dense, Dropout, Flatten, LSTM, Embedding,ZeroPadding2D, BatchNormalization, MaxPooling2D,Activation,  AveragePooling2D, Dropout, GlobalMaxPooling2D, GlobalAveragePooling2D\n",
        "from keras.preprocessing.text import Tokenizer\n",
        "from keras.optimizers import SGD\n",
        "from keras.utils import np_utils\n",
        "import pandas as pd\n",
        "from keras.preprocessing.sequence import pad_sequences"
      ],
      "execution_count": 0,
      "outputs": []
    },
    {
      "cell_type": "markdown",
      "metadata": {
        "id": "F323l01xvTJd",
        "colab_type": "text"
      },
      "source": [
        "\n",
        "#1、基于RNN实现文本分类任务\n",
        "数据使用搜狐新闻数据(SogouCS, 网址：http://www.sogou.com/labs/resource/cs.php)。任务重点在于搭建并训练RNN网络来提取特征，最后通过一个全连接层实现分类目标。\n",
        "可以参考https://zhuanlan.zhihu.com/p/26729228\n",
        "\n"
      ]
    },
    {
      "cell_type": "code",
      "metadata": {
        "id": "y25X6_CNIaDo",
        "colab_type": "code",
        "colab": {
          "base_uri": "https://localhost:8080/",
          "height": 1882
        },
        "outputId": "18f989c8-cef1-483a-a3b3-f5709e73dcb5"
      },
      "source": [
        "data = pd.read_csv('sohu.csv')\n",
        "data"
      ],
      "execution_count": 30,
      "outputs": [
        {
          "output_type": "execute_result",
          "data": {
            "text/html": [
              "<div>\n",
              "<style scoped>\n",
              "    .dataframe tbody tr th:only-of-type {\n",
              "        vertical-align: middle;\n",
              "    }\n",
              "\n",
              "    .dataframe tbody tr th {\n",
              "        vertical-align: top;\n",
              "    }\n",
              "\n",
              "    .dataframe thead th {\n",
              "        text-align: right;\n",
              "    }\n",
              "</style>\n",
              "<table border=\"1\" class=\"dataframe\">\n",
              "  <thead>\n",
              "    <tr style=\"text-align: right;\">\n",
              "      <th></th>\n",
              "      <th>label</th>\n",
              "      <th>text</th>\n",
              "    </tr>\n",
              "  </thead>\n",
              "  <tbody>\n",
              "    <tr>\n",
              "      <th>0</th>\n",
              "      <td>pic</td>\n",
              "      <td>高清：彭帅谢淑薇遗憾遭逆转出局 击掌互相鼓励责编:马克杰 日期:2013-10-4 彭帅谢淑...</td>\n",
              "    </tr>\n",
              "    <tr>\n",
              "      <th>1</th>\n",
              "      <td>news</td>\n",
              "      <td>河南周口路边秸秆燃烧 2岁幼儿被熏晕(图)  10月3日下午,崔先生驾车去周口郸城县汲冢镇走...</td>\n",
              "    </tr>\n",
              "    <tr>\n",
              "      <th>2</th>\n",
              "      <td>news</td>\n",
              "      <td>消息称138名中国劳工在菲律宾被抓 使馆正核实【使馆正核实情况】中国驻菲律宾大使馆发言人表示...</td>\n",
              "    </tr>\n",
              "    <tr>\n",
              "      <th>3</th>\n",
              "      <td>news</td>\n",
              "      <td>越南重要军事领导人武元甲大将去世 享年102岁据美国媒体10月4日报道, 越南抗法、抗美战争...</td>\n",
              "    </tr>\n",
              "    <tr>\n",
              "      <th>4</th>\n",
              "      <td>news</td>\n",
              "      <td>西沙搜救已发现6具遇难渔民遗体 尚有52人失踪【已发现6具遇难渔民遗体 尚有52人失踪】10...</td>\n",
              "    </tr>\n",
              "    <tr>\n",
              "      <th>5</th>\n",
              "      <td>pic</td>\n",
              "      <td>10月4日十佳图：李娜小德球迷抢眼 大威显文静责编:马克杰 日期:2013-10-4 小德的...</td>\n",
              "    </tr>\n",
              "    <tr>\n",
              "      <th>6</th>\n",
              "      <td>pic</td>\n",
              "      <td>高清：小德速胜高举双臂庆祝 鼓掌向球迷们致意责编:马克杰 日期:2013-10-4 小德鼓掌...</td>\n",
              "    </tr>\n",
              "    <tr>\n",
              "      <th>7</th>\n",
              "      <td>sports</td>\n",
              "      <td>卡努特伤愈将首发战辽足 斯塔诺：辽足不好对付高清:国安踩场卡努特卖力 对抗赛神勇奔跑如风 (...</td>\n",
              "    </tr>\n",
              "    <tr>\n",
              "      <th>8</th>\n",
              "      <td>news</td>\n",
              "      <td>美“宙斯盾”系统成功进行反导试验新华网华盛顿10月4日电(记者林小春)美国国防部4日宣布再次...</td>\n",
              "    </tr>\n",
              "    <tr>\n",
              "      <th>9</th>\n",
              "      <td>news</td>\n",
              "      <td>3中国建筑工俄罗斯身亡【3中国建筑工俄罗斯身亡】俄伊尔库茨克州称,4日,1名中国建筑工人从在...</td>\n",
              "    </tr>\n",
              "    <tr>\n",
              "      <th>10</th>\n",
              "      <td>news</td>\n",
              "      <td>山西煤矿透水事故排水5万立方米 仍有12人被困中新社汾阳10月4日电(张云)山西汾西矿业正升...</td>\n",
              "    </tr>\n",
              "    <tr>\n",
              "      <th>11</th>\n",
              "      <td>sports</td>\n",
              "      <td>现场：彭帅暴力发球遭无视 主裁秀中文“谢谢”北京时间9月30日消息,总奖金额为5,185,6...</td>\n",
              "    </tr>\n",
              "    <tr>\n",
              "      <th>12</th>\n",
              "      <td>news</td>\n",
              "      <td>扬州警方：一名游客在扬州博物馆自主坠楼身亡【一游客在扬州坠亡】扬州警方通报,今天下午4点多,...</td>\n",
              "    </tr>\n",
              "    <tr>\n",
              "      <th>13</th>\n",
              "      <td>pic</td>\n",
              "      <td>高清：费雷尔爆冷负黯然离场 加斯奎特潇洒回球责编:马克杰 日期:2013-10-4 费雷尔离...</td>\n",
              "    </tr>\n",
              "    <tr>\n",
              "      <th>14</th>\n",
              "      <td>news</td>\n",
              "      <td>国足新一期集训名单出炉 恒大八人入选新华网北京10月4日电(记者公兵、郑道锦)中国足协4日公...</td>\n",
              "    </tr>\n",
              "    <tr>\n",
              "      <th>15</th>\n",
              "      <td>news</td>\n",
              "      <td>越南抗法、抗美战争重要军事领导人武元甲去世  人民日报无线新媒体:据美国媒体10月4日报道,...</td>\n",
              "    </tr>\n",
              "    <tr>\n",
              "      <th>16</th>\n",
              "      <td>sports</td>\n",
              "      <td>客战莱万特皇马不容有失 劳尔二世或替大本首发北京时间10月6日凌晨2点,2013-2014赛...</td>\n",
              "    </tr>\n",
              "    <tr>\n",
              "      <th>17</th>\n",
              "      <td>business</td>\n",
              "      <td>香港国际机场荣登TTG旅游大奖名人堂新华网香港10月4日电 香港国际机场4日消息,在今年的英...</td>\n",
              "    </tr>\n",
              "    <tr>\n",
              "      <th>18</th>\n",
              "      <td>pic</td>\n",
              "      <td>高清：阿尔滨备战于汉超状态勇 陈涛于大宝缺席来源: 搜狐体育 责编:刘娱 日期:2013-1...</td>\n",
              "    </tr>\n",
              "    <tr>\n",
              "      <th>19</th>\n",
              "      <td>pic</td>\n",
              "      <td>高清：国安踩场卡努特卖力 对抗赛神勇奔跑如风来源: 搜狐体育 日期:2013-10-4 高清...</td>\n",
              "    </tr>\n",
              "    <tr>\n",
              "      <th>20</th>\n",
              "      <td>sports</td>\n",
              "      <td>男排亚锦赛-中国3-1逆转印度 半决赛战澳韩胜者北京时间10月4日,2013年第17届男排亚...</td>\n",
              "    </tr>\n",
              "    <tr>\n",
              "      <th>21</th>\n",
              "      <td>news</td>\n",
              "      <td>房地产企业呼吁取消土地拍卖：不愿高价拿地新华社兰州10月4日专电(记者连振祥)在3日结束的“...</td>\n",
              "    </tr>\n",
              "    <tr>\n",
              "      <th>22</th>\n",
              "      <td>sports</td>\n",
              "      <td>5日前瞻-小德小威纳达尔力争决赛 女双将出冠军北京时间10月5日,2013赛季中国网球公开赛...</td>\n",
              "    </tr>\n",
              "    <tr>\n",
              "      <th>23</th>\n",
              "      <td>news</td>\n",
              "      <td>天津机场多措并举保障东亚运动会接待顺利中新网天津10月4日电(倪帅 王意)第六届东亚运动会将...</td>\n",
              "    </tr>\n",
              "    <tr>\n",
              "      <th>24</th>\n",
              "      <td>news</td>\n",
              "      <td>旅客动车吸烟现象频现 南昌铁路局吁文明出行中新网福州10月4日电(龙敏 刘燕)连日来,旅游热...</td>\n",
              "    </tr>\n",
              "    <tr>\n",
              "      <th>25</th>\n",
              "      <td>sports</td>\n",
              "      <td>小威胁抽烟被逮却自比齐祖 温格斥：犯双重错误《邮报》曝光威尔希尔夜店爽嗨照 最近 阿森纳 可...</td>\n",
              "    </tr>\n",
              "    <tr>\n",
              "      <th>26</th>\n",
              "      <td>pic</td>\n",
              "      <td>高清：小威进中网女单四强 黑珍珠回球从容淡定责编:陈国庆 日期:2013-10-4 小威黄色...</td>\n",
              "    </tr>\n",
              "    <tr>\n",
              "      <th>27</th>\n",
              "      <td>sports</td>\n",
              "      <td>克鲁尼奇：三人缺席阿尔滨靠整体 客场争取三分高清:阿尔滨备战于汉超状态勇 陈涛于大宝缺席 (...</td>\n",
              "    </tr>\n",
              "    <tr>\n",
              "      <th>28</th>\n",
              "      <td>pic</td>\n",
              "      <td>高清：泰达踩场诸将喜笑颜开 周海滨射门玩凌空来源: 搜狐体育 责编:刘娱 日期:2013-1...</td>\n",
              "    </tr>\n",
              "    <tr>\n",
              "      <th>29</th>\n",
              "      <td>news</td>\n",
              "      <td>这不是羊肉卷！“土豪婆家”送500万聘礼(图)图片来自微博 江南都市报:#江南微播报#【“土...</td>\n",
              "    </tr>\n",
              "    <tr>\n",
              "      <th>...</th>\n",
              "      <td>...</td>\n",
              "      <td>...</td>\n",
              "    </tr>\n",
              "    <tr>\n",
              "      <th>5891</th>\n",
              "      <td>business</td>\n",
              "      <td>出门旅游过大年——春节黄金周落幕新华社北京2月13日电 题:出门旅游过大年――春节黄金周落幕...</td>\n",
              "    </tr>\n",
              "    <tr>\n",
              "      <th>5892</th>\n",
              "      <td>business</td>\n",
              "      <td>长三角高铁成网带动出游 春节假期发送旅客845.4万人中新网杭州2月13日电  (记者 施佳...</td>\n",
              "    </tr>\n",
              "    <tr>\n",
              "      <th>5893</th>\n",
              "      <td>news</td>\n",
              "      <td>富二代载美女超速醉驾致5死 现场曝光(图)现场图 现场图 最新进展: 2月12日晚21:37...</td>\n",
              "    </tr>\n",
              "    <tr>\n",
              "      <th>5894</th>\n",
              "      <td>business</td>\n",
              "      <td>上海实体商业回暖，春节消费市场同比增长8.2%新华社上海2月13日专电(记者周蕊)上海市商务...</td>\n",
              "    </tr>\n",
              "    <tr>\n",
              "      <th>5895</th>\n",
              "      <td>sports</td>\n",
              "      <td>西媒曝厄齐尔拒续约枪手 巴萨或挖昔日皇马核心巴萨有意厄齐尔? 根据《马卡报》2月13日消息,...</td>\n",
              "    </tr>\n",
              "    <tr>\n",
              "      <th>5896</th>\n",
              "      <td>yule</td>\n",
              "      <td>网友解读《美人鱼》24大细节 堪称二刷观影宝典《美人鱼》结尾邓超从天而降颇有“盖世英雄”气概...</td>\n",
              "    </tr>\n",
              "    <tr>\n",
              "      <th>5897</th>\n",
              "      <td>news</td>\n",
              "      <td>春节期间全国火灾形势平稳为加强春节期间火灾防控工作,公安消防部队17万官兵实行等级战备,加大...</td>\n",
              "    </tr>\n",
              "    <tr>\n",
              "      <th>5898</th>\n",
              "      <td>business</td>\n",
              "      <td>滴滴代驾公布春节十大聚会地 福州人春节赶场最忙中新网2月13日电  13日,滴滴代驾根据春节...</td>\n",
              "    </tr>\n",
              "    <tr>\n",
              "      <th>5899</th>\n",
              "      <td>news</td>\n",
              "      <td>周小川：人民币没有持续贬值基础【 本文获财新传媒授权转载,未经财新传媒许可,不得转载。 】 ...</td>\n",
              "    </tr>\n",
              "    <tr>\n",
              "      <th>5900</th>\n",
              "      <td>sports</td>\n",
              "      <td>京媒：中超诸强出手不软 国安依然“市场规律”昨天,前曼城前锋巴西人若来到南京,正式加盟江苏苏...</td>\n",
              "    </tr>\n",
              "    <tr>\n",
              "      <th>5901</th>\n",
              "      <td>business</td>\n",
              "      <td>春节财经要闻回顾：全球市场惨跌 周小川力挺人民币刚过去的春节假期(2月7日-13日),发生了...</td>\n",
              "    </tr>\n",
              "    <tr>\n",
              "      <th>5902</th>\n",
              "      <td>business</td>\n",
              "      <td>2015年中国游客境外消费约1.2万亿元　促消费回流任重道远新华社上海2月13日专电(记者 ...</td>\n",
              "    </tr>\n",
              "    <tr>\n",
              "      <th>5903</th>\n",
              "      <td>sports</td>\n",
              "      <td>埃斯库德罗确认已与苏宁解约 深情致谢江苏球迷埃斯库德罗解约苏宁  北京时间2月13日,江苏苏...</td>\n",
              "    </tr>\n",
              "    <tr>\n",
              "      <th>5904</th>\n",
              "      <td>sports</td>\n",
              "      <td>新主掌国米3年负债超4亿 莫拉蒂或因爱酝酿回购莫拉蒂或因爱酝酿回购国米 去年夏天,国际米兰砸...</td>\n",
              "    </tr>\n",
              "    <tr>\n",
              "      <th>5905</th>\n",
              "      <td>news</td>\n",
              "      <td>外汇局2016年将加大对违规银行处罚新华社北京2月13日电(记者姜琳)国家外汇管理局管理检查...</td>\n",
              "    </tr>\n",
              "    <tr>\n",
              "      <th>5906</th>\n",
              "      <td>business</td>\n",
              "      <td>“十三五”能源规划编制进入冲刺阶段新华社北京2月13日电(记者陈炜伟)国家能源局局长努尔·白...</td>\n",
              "    </tr>\n",
              "    <tr>\n",
              "      <th>5907</th>\n",
              "      <td>news</td>\n",
              "      <td>中国多条主要公路交通受雨雪大雾等天气影响人民网北京2月13日电 据中央气象台消息,12日20...</td>\n",
              "    </tr>\n",
              "    <tr>\n",
              "      <th>5908</th>\n",
              "      <td>sports</td>\n",
              "      <td>科比胜过乔丹? 麦蒂:飞侠乃我所遇过最优秀球员北京时间2月13日,据美媒体报道,在接受采访时...</td>\n",
              "    </tr>\n",
              "    <tr>\n",
              "      <th>5909</th>\n",
              "      <td>news</td>\n",
              "      <td>北京周边高速受降雪影响大面积封路法制晚报讯(实习记者 张婷) 北京周边高速受降雪影响大面积封...</td>\n",
              "    </tr>\n",
              "    <tr>\n",
              "      <th>5910</th>\n",
              "      <td>cul</td>\n",
              "      <td>阎 肃｜经典作品欣赏1.《我爱祖国的蓝天》 2.《红梅赞》             3.《绣...</td>\n",
              "    </tr>\n",
              "    <tr>\n",
              "      <th>5911</th>\n",
              "      <td>news</td>\n",
              "      <td>香港正值冬季流感高峰期 12人死亡中新网2月13日电 据香港《大公报》报道,香港正值冬季流感...</td>\n",
              "    </tr>\n",
              "    <tr>\n",
              "      <th>5912</th>\n",
              "      <td>business</td>\n",
              "      <td>煤价腰斩过半热费才降两三元 为何降得这么少？北方城市,冬日取暖是头等大事。去年入冬以来,国内...</td>\n",
              "    </tr>\n",
              "    <tr>\n",
              "      <th>5913</th>\n",
              "      <td>news</td>\n",
              "      <td>大雾给节后返程交通“添堵”2月12日,正月初五,公铁空全面迎来春节返程高峰。11日夜间持续到...</td>\n",
              "    </tr>\n",
              "    <tr>\n",
              "      <th>5914</th>\n",
              "      <td>business</td>\n",
              "      <td>低油价的代价：能源公司股票分红今年或降120亿美元金融数据提供商Markit发布股息预测(D...</td>\n",
              "    </tr>\n",
              "    <tr>\n",
              "      <th>5915</th>\n",
              "      <td>news</td>\n",
              "      <td>中央气象台发布寒潮黄色预警 中东部大风强降温中新网2月13日电 中央气象台2月13日06时继...</td>\n",
              "    </tr>\n",
              "    <tr>\n",
              "      <th>5916</th>\n",
              "      <td>pic</td>\n",
              "      <td>高清图：全明星接受采访 科比人气爆棚库里淡定责编:程逵达 日期:2016-2-13 科比回答...</td>\n",
              "    </tr>\n",
              "    <tr>\n",
              "      <th>5917</th>\n",
              "      <td>pic</td>\n",
              "      <td>高清图：名人堂公布候选名单 姚明奥胖答案入围责编:程逵达 日期:2016-2-13 姚明握手...</td>\n",
              "    </tr>\n",
              "    <tr>\n",
              "      <th>5918</th>\n",
              "      <td>sports</td>\n",
              "      <td>姚明秀幽默：地板能够承受我和奥尼尔体重吗？奥尼尔姚明 北京时间2月13日消息,来自《休斯顿纪...</td>\n",
              "    </tr>\n",
              "    <tr>\n",
              "      <th>5919</th>\n",
              "      <td>news</td>\n",
              "      <td>美国科学家宣布发现引力波 广义相对论预言获证科学家在华盛顿宣布探测到引力波存在 供图/东方I...</td>\n",
              "    </tr>\n",
              "    <tr>\n",
              "      <th>5920</th>\n",
              "      <td>sports</td>\n",
              "      <td>科比全明星谢幕！库里要送助攻 詹皇威少表忠心北京时间2月13日消息,来自《雅虎体育》的报道称...</td>\n",
              "    </tr>\n",
              "  </tbody>\n",
              "</table>\n",
              "<p>5921 rows × 2 columns</p>\n",
              "</div>"
            ],
            "text/plain": [
              "         label                                               text\n",
              "0          pic  高清：彭帅谢淑薇遗憾遭逆转出局 击掌互相鼓励责编:马克杰 日期:2013-10-4 彭帅谢淑...\n",
              "1         news  河南周口路边秸秆燃烧 2岁幼儿被熏晕(图)  10月3日下午,崔先生驾车去周口郸城县汲冢镇走...\n",
              "2         news  消息称138名中国劳工在菲律宾被抓 使馆正核实【使馆正核实情况】中国驻菲律宾大使馆发言人表示...\n",
              "3         news  越南重要军事领导人武元甲大将去世 享年102岁据美国媒体10月4日报道, 越南抗法、抗美战争...\n",
              "4         news  西沙搜救已发现6具遇难渔民遗体 尚有52人失踪【已发现6具遇难渔民遗体 尚有52人失踪】10...\n",
              "5          pic  10月4日十佳图：李娜小德球迷抢眼 大威显文静责编:马克杰 日期:2013-10-4 小德的...\n",
              "6          pic  高清：小德速胜高举双臂庆祝 鼓掌向球迷们致意责编:马克杰 日期:2013-10-4 小德鼓掌...\n",
              "7       sports  卡努特伤愈将首发战辽足 斯塔诺：辽足不好对付高清:国安踩场卡努特卖力 对抗赛神勇奔跑如风 (...\n",
              "8         news  美“宙斯盾”系统成功进行反导试验新华网华盛顿10月4日电(记者林小春)美国国防部4日宣布再次...\n",
              "9         news  3中国建筑工俄罗斯身亡【3中国建筑工俄罗斯身亡】俄伊尔库茨克州称,4日,1名中国建筑工人从在...\n",
              "10        news  山西煤矿透水事故排水5万立方米 仍有12人被困中新社汾阳10月4日电(张云)山西汾西矿业正升...\n",
              "11      sports  现场：彭帅暴力发球遭无视 主裁秀中文“谢谢”北京时间9月30日消息,总奖金额为5,185,6...\n",
              "12        news  扬州警方：一名游客在扬州博物馆自主坠楼身亡【一游客在扬州坠亡】扬州警方通报,今天下午4点多,...\n",
              "13         pic  高清：费雷尔爆冷负黯然离场 加斯奎特潇洒回球责编:马克杰 日期:2013-10-4 费雷尔离...\n",
              "14        news  国足新一期集训名单出炉 恒大八人入选新华网北京10月4日电(记者公兵、郑道锦)中国足协4日公...\n",
              "15        news  越南抗法、抗美战争重要军事领导人武元甲去世  人民日报无线新媒体:据美国媒体10月4日报道,...\n",
              "16      sports  客战莱万特皇马不容有失 劳尔二世或替大本首发北京时间10月6日凌晨2点,2013-2014赛...\n",
              "17    business  香港国际机场荣登TTG旅游大奖名人堂新华网香港10月4日电 香港国际机场4日消息,在今年的英...\n",
              "18         pic  高清：阿尔滨备战于汉超状态勇 陈涛于大宝缺席来源: 搜狐体育 责编:刘娱 日期:2013-1...\n",
              "19         pic  高清：国安踩场卡努特卖力 对抗赛神勇奔跑如风来源: 搜狐体育 日期:2013-10-4 高清...\n",
              "20      sports  男排亚锦赛-中国3-1逆转印度 半决赛战澳韩胜者北京时间10月4日,2013年第17届男排亚...\n",
              "21        news  房地产企业呼吁取消土地拍卖：不愿高价拿地新华社兰州10月4日专电(记者连振祥)在3日结束的“...\n",
              "22      sports  5日前瞻-小德小威纳达尔力争决赛 女双将出冠军北京时间10月5日,2013赛季中国网球公开赛...\n",
              "23        news  天津机场多措并举保障东亚运动会接待顺利中新网天津10月4日电(倪帅 王意)第六届东亚运动会将...\n",
              "24        news  旅客动车吸烟现象频现 南昌铁路局吁文明出行中新网福州10月4日电(龙敏 刘燕)连日来,旅游热...\n",
              "25      sports  小威胁抽烟被逮却自比齐祖 温格斥：犯双重错误《邮报》曝光威尔希尔夜店爽嗨照 最近 阿森纳 可...\n",
              "26         pic  高清：小威进中网女单四强 黑珍珠回球从容淡定责编:陈国庆 日期:2013-10-4 小威黄色...\n",
              "27      sports  克鲁尼奇：三人缺席阿尔滨靠整体 客场争取三分高清:阿尔滨备战于汉超状态勇 陈涛于大宝缺席 (...\n",
              "28         pic  高清：泰达踩场诸将喜笑颜开 周海滨射门玩凌空来源: 搜狐体育 责编:刘娱 日期:2013-1...\n",
              "29        news  这不是羊肉卷！“土豪婆家”送500万聘礼(图)图片来自微博 江南都市报:#江南微播报#【“土...\n",
              "...        ...                                                ...\n",
              "5891  business  出门旅游过大年——春节黄金周落幕新华社北京2月13日电 题:出门旅游过大年――春节黄金周落幕...\n",
              "5892  business  长三角高铁成网带动出游 春节假期发送旅客845.4万人中新网杭州2月13日电  (记者 施佳...\n",
              "5893      news  富二代载美女超速醉驾致5死 现场曝光(图)现场图 现场图 最新进展: 2月12日晚21:37...\n",
              "5894  business  上海实体商业回暖，春节消费市场同比增长8.2%新华社上海2月13日专电(记者周蕊)上海市商务...\n",
              "5895    sports  西媒曝厄齐尔拒续约枪手 巴萨或挖昔日皇马核心巴萨有意厄齐尔? 根据《马卡报》2月13日消息,...\n",
              "5896      yule  网友解读《美人鱼》24大细节 堪称二刷观影宝典《美人鱼》结尾邓超从天而降颇有“盖世英雄”气概...\n",
              "5897      news  春节期间全国火灾形势平稳为加强春节期间火灾防控工作,公安消防部队17万官兵实行等级战备,加大...\n",
              "5898  business  滴滴代驾公布春节十大聚会地 福州人春节赶场最忙中新网2月13日电  13日,滴滴代驾根据春节...\n",
              "5899      news  周小川：人民币没有持续贬值基础【 本文获财新传媒授权转载,未经财新传媒许可,不得转载。 】 ...\n",
              "5900    sports  京媒：中超诸强出手不软 国安依然“市场规律”昨天,前曼城前锋巴西人若来到南京,正式加盟江苏苏...\n",
              "5901  business  春节财经要闻回顾：全球市场惨跌 周小川力挺人民币刚过去的春节假期(2月7日-13日),发生了...\n",
              "5902  business  2015年中国游客境外消费约1.2万亿元　促消费回流任重道远新华社上海2月13日专电(记者 ...\n",
              "5903    sports  埃斯库德罗确认已与苏宁解约 深情致谢江苏球迷埃斯库德罗解约苏宁  北京时间2月13日,江苏苏...\n",
              "5904    sports  新主掌国米3年负债超4亿 莫拉蒂或因爱酝酿回购莫拉蒂或因爱酝酿回购国米 去年夏天,国际米兰砸...\n",
              "5905      news  外汇局2016年将加大对违规银行处罚新华社北京2月13日电(记者姜琳)国家外汇管理局管理检查...\n",
              "5906  business  “十三五”能源规划编制进入冲刺阶段新华社北京2月13日电(记者陈炜伟)国家能源局局长努尔·白...\n",
              "5907      news  中国多条主要公路交通受雨雪大雾等天气影响人民网北京2月13日电 据中央气象台消息,12日20...\n",
              "5908    sports  科比胜过乔丹? 麦蒂:飞侠乃我所遇过最优秀球员北京时间2月13日,据美媒体报道,在接受采访时...\n",
              "5909      news  北京周边高速受降雪影响大面积封路法制晚报讯(实习记者 张婷) 北京周边高速受降雪影响大面积封...\n",
              "5910       cul  阎 肃｜经典作品欣赏1.《我爱祖国的蓝天》 2.《红梅赞》             3.《绣...\n",
              "5911      news  香港正值冬季流感高峰期 12人死亡中新网2月13日电 据香港《大公报》报道,香港正值冬季流感...\n",
              "5912  business  煤价腰斩过半热费才降两三元 为何降得这么少？北方城市,冬日取暖是头等大事。去年入冬以来,国内...\n",
              "5913      news  大雾给节后返程交通“添堵”2月12日,正月初五,公铁空全面迎来春节返程高峰。11日夜间持续到...\n",
              "5914  business  低油价的代价：能源公司股票分红今年或降120亿美元金融数据提供商Markit发布股息预测(D...\n",
              "5915      news  中央气象台发布寒潮黄色预警 中东部大风强降温中新网2月13日电 中央气象台2月13日06时继...\n",
              "5916       pic  高清图：全明星接受采访 科比人气爆棚库里淡定责编:程逵达 日期:2016-2-13 科比回答...\n",
              "5917       pic  高清图：名人堂公布候选名单 姚明奥胖答案入围责编:程逵达 日期:2016-2-13 姚明握手...\n",
              "5918    sports  姚明秀幽默：地板能够承受我和奥尼尔体重吗？奥尼尔姚明 北京时间2月13日消息,来自《休斯顿纪...\n",
              "5919      news  美国科学家宣布发现引力波 广义相对论预言获证科学家在华盛顿宣布探测到引力波存在 供图/东方I...\n",
              "5920    sports  科比全明星谢幕！库里要送助攻 詹皇威少表忠心北京时间2月13日消息,来自《雅虎体育》的报道称...\n",
              "\n",
              "[5921 rows x 2 columns]"
            ]
          },
          "metadata": {
            "tags": []
          },
          "execution_count": 30
        }
      ]
    },
    {
      "cell_type": "code",
      "metadata": {
        "id": "8LsHIfOEg53X",
        "colab_type": "code",
        "colab": {}
      },
      "source": [
        "#分词\n",
        "import jieba\n",
        "for i in data['text']:\n",
        "    i = jieba.cut(i, cut_all = True)\n",
        "data['text']=data['text'].apply(lambda x:' '.join(jieba.cut(x)))"
      ],
      "execution_count": 0,
      "outputs": []
    },
    {
      "cell_type": "code",
      "metadata": {
        "id": "S9GSjxZiwwap",
        "colab_type": "code",
        "colab": {
          "base_uri": "https://localhost:8080/",
          "height": 50
        },
        "outputId": "f0d26a6d-7a18-4802-b4b6-03e05fe665b9"
      },
      "source": [
        "Y=data['label']\n",
        "X=data['text']\n",
        "Y.unique()"
      ],
      "execution_count": 32,
      "outputs": [
        {
          "output_type": "execute_result",
          "data": {
            "text/plain": [
              "array(['pic', 'news', 'sports', 'business', 'caipiao', 'yule', 'mil',\n",
              "       'cul'], dtype=object)"
            ]
          },
          "metadata": {
            "tags": []
          },
          "execution_count": 32
        }
      ]
    },
    {
      "cell_type": "code",
      "metadata": {
        "id": "16_YsDGVxs7M",
        "colab_type": "code",
        "colab": {}
      },
      "source": [
        "#处理label\n",
        "Y=Y.map({'pic':0, 'news':1, 'sports':2, 'business':3, 'caipiao':4, 'yule':5, 'mil':6,'cul':7})"
      ],
      "execution_count": 0,
      "outputs": []
    },
    {
      "cell_type": "code",
      "metadata": {
        "id": "RRd4A6nKk592",
        "colab_type": "code",
        "colab": {}
      },
      "source": [
        "Y = np_utils.to_categorical(Y)"
      ],
      "execution_count": 0,
      "outputs": []
    },
    {
      "cell_type": "code",
      "metadata": {
        "id": "MNygtrn9h5AG",
        "colab_type": "code",
        "colab": {
          "base_uri": "https://localhost:8080/",
          "height": 1882
        },
        "outputId": "2feffb3a-e6bc-4b47-8374-75ed1b3ec370"
      },
      "source": [
        "data"
      ],
      "execution_count": 35,
      "outputs": [
        {
          "output_type": "execute_result",
          "data": {
            "text/html": [
              "<div>\n",
              "<style scoped>\n",
              "    .dataframe tbody tr th:only-of-type {\n",
              "        vertical-align: middle;\n",
              "    }\n",
              "\n",
              "    .dataframe tbody tr th {\n",
              "        vertical-align: top;\n",
              "    }\n",
              "\n",
              "    .dataframe thead th {\n",
              "        text-align: right;\n",
              "    }\n",
              "</style>\n",
              "<table border=\"1\" class=\"dataframe\">\n",
              "  <thead>\n",
              "    <tr style=\"text-align: right;\">\n",
              "      <th></th>\n",
              "      <th>label</th>\n",
              "      <th>text</th>\n",
              "    </tr>\n",
              "  </thead>\n",
              "  <tbody>\n",
              "    <tr>\n",
              "      <th>0</th>\n",
              "      <td>pic</td>\n",
              "      <td>高清 ： 彭帅 谢淑薇 遗憾 遭 逆转 出局   击掌 互相 鼓励 责编 : 马克 杰   ...</td>\n",
              "    </tr>\n",
              "    <tr>\n",
              "      <th>1</th>\n",
              "      <td>news</td>\n",
              "      <td>河南 周口 路边 秸秆 燃烧   2 岁 幼儿 被 熏 晕 ( 图 )     10 月 3...</td>\n",
              "    </tr>\n",
              "    <tr>\n",
              "      <th>2</th>\n",
              "      <td>news</td>\n",
              "      <td>消息 称 138 名 中国 劳工 在 菲律宾 被 抓   使馆 正 核实 【 使馆 正 核实...</td>\n",
              "    </tr>\n",
              "    <tr>\n",
              "      <th>3</th>\n",
              "      <td>news</td>\n",
              "      <td>越南 重要 军事 领导人 武元甲 大将 去世   享年 102 岁 据 美国 媒体 10 月...</td>\n",
              "    </tr>\n",
              "    <tr>\n",
              "      <th>4</th>\n",
              "      <td>news</td>\n",
              "      <td>西沙 搜救 已 发现 6 具 遇难 渔民 遗体   尚有 52 人 失踪 【 已 发现 6 ...</td>\n",
              "    </tr>\n",
              "    <tr>\n",
              "      <th>5</th>\n",
              "      <td>pic</td>\n",
              "      <td>10 月 4 日 十佳 图 ： 李娜 小德 球迷 抢眼   大威 显 文静 责编 : 马克 ...</td>\n",
              "    </tr>\n",
              "    <tr>\n",
              "      <th>6</th>\n",
              "      <td>pic</td>\n",
              "      <td>高清 ： 小德 速胜 高举 双臂 庆祝   鼓掌 向 球迷 们 致意 责编 : 马克 杰  ...</td>\n",
              "    </tr>\n",
              "    <tr>\n",
              "      <th>7</th>\n",
              "      <td>sports</td>\n",
              "      <td>卡努特 伤愈 将 首发 战辽足   斯塔诺 ： 辽足 不好 对付 高清 : 国安 踩场 卡努...</td>\n",
              "    </tr>\n",
              "    <tr>\n",
              "      <th>8</th>\n",
              "      <td>news</td>\n",
              "      <td>美 “ 宙斯 盾 ” 系统 成功 进行 反导 试验 新华网 华盛顿 10 月 4 日电 ( ...</td>\n",
              "    </tr>\n",
              "    <tr>\n",
              "      <th>9</th>\n",
              "      <td>news</td>\n",
              "      <td>3 中国 建筑 工 俄罗斯 身亡 【 3 中国 建筑 工 俄罗斯 身亡 】 俄 伊尔库茨克州...</td>\n",
              "    </tr>\n",
              "    <tr>\n",
              "      <th>10</th>\n",
              "      <td>news</td>\n",
              "      <td>山西 煤矿 透水 事故 排水 5 万立方米   仍 有 12 人 被困 中新社 汾阳 10 ...</td>\n",
              "    </tr>\n",
              "    <tr>\n",
              "      <th>11</th>\n",
              "      <td>sports</td>\n",
              "      <td>现场 ： 彭帅 暴力 发球 遭 无视   主裁 秀 中文 “ 谢谢 ” 北京 时间 9 月 ...</td>\n",
              "    </tr>\n",
              "    <tr>\n",
              "      <th>12</th>\n",
              "      <td>news</td>\n",
              "      <td>扬州 警方 ： 一名 游客 在 扬州 博物馆 自主 坠楼 身亡 【 一 游客 在 扬州 坠亡...</td>\n",
              "    </tr>\n",
              "    <tr>\n",
              "      <th>13</th>\n",
              "      <td>pic</td>\n",
              "      <td>高清 ： 费雷尔 爆冷 负 黯然 离场   加斯 奎特 潇洒 回球 责编 : 马克 杰   ...</td>\n",
              "    </tr>\n",
              "    <tr>\n",
              "      <th>14</th>\n",
              "      <td>news</td>\n",
              "      <td>国 足 新一期 集训 名单 出炉   恒大八人 入选 新华网 北京 10 月 4 日电 ( ...</td>\n",
              "    </tr>\n",
              "    <tr>\n",
              "      <th>15</th>\n",
              "      <td>news</td>\n",
              "      <td>越南 抗法 、 抗美 战争 重要 军事 领导人 武元甲 去世     人民日报 无线 新 媒...</td>\n",
              "    </tr>\n",
              "    <tr>\n",
              "      <th>16</th>\n",
              "      <td>sports</td>\n",
              "      <td>客战莱 万特 皇马 不容 有失   劳尔 二世 或 替 大本 首发 北京 时间 10 月 6...</td>\n",
              "    </tr>\n",
              "    <tr>\n",
              "      <th>17</th>\n",
              "      <td>business</td>\n",
              "      <td>香港 国际 机场 荣登 TTG 旅游 大奖 名人堂 新华网 香港 10 月 4 日电   香...</td>\n",
              "    </tr>\n",
              "    <tr>\n",
              "      <th>18</th>\n",
              "      <td>pic</td>\n",
              "      <td>高清 ： 阿尔滨 备战 于汉超 状态 勇   陈涛 于 大宝 缺席 来源 :   搜狐 体育...</td>\n",
              "    </tr>\n",
              "    <tr>\n",
              "      <th>19</th>\n",
              "      <td>pic</td>\n",
              "      <td>高清 ： 国安 踩场 卡努特 卖力   对抗赛 神勇 奔跑 如风 来源 :   搜狐 体育 ...</td>\n",
              "    </tr>\n",
              "    <tr>\n",
              "      <th>20</th>\n",
              "      <td>sports</td>\n",
              "      <td>男排 亚锦赛 - 中国 3 - 1 逆转 印度   半决赛 战澳 韩 胜者 北京 时间 10...</td>\n",
              "    </tr>\n",
              "    <tr>\n",
              "      <th>21</th>\n",
              "      <td>news</td>\n",
              "      <td>房地产 企业 呼吁 取消 土地 拍卖 ： 不愿 高价 拿 地 新华社 兰州 10 月 4 日...</td>\n",
              "    </tr>\n",
              "    <tr>\n",
              "      <th>22</th>\n",
              "      <td>sports</td>\n",
              "      <td>5 日 前瞻 - 小德小威 纳达尔 力争 决赛   女双 将 出 冠军 北京 时间 10 月...</td>\n",
              "    </tr>\n",
              "    <tr>\n",
              "      <th>23</th>\n",
              "      <td>news</td>\n",
              "      <td>天津 机场 多措 并举 保障 东亚 运动会 接待 顺利 中新网 天津 10 月 4 日电 (...</td>\n",
              "    </tr>\n",
              "    <tr>\n",
              "      <th>24</th>\n",
              "      <td>news</td>\n",
              "      <td>旅客 动车 吸烟 现象 频现   南昌铁路局 吁 文明 出行 中新网 福州 10 月 4 日...</td>\n",
              "    </tr>\n",
              "    <tr>\n",
              "      <th>25</th>\n",
              "      <td>sports</td>\n",
              "      <td>小 威胁 抽烟 被 逮 却 自比 齐祖   温格 斥 ： 犯 双重 错误 《 邮报 》 曝光...</td>\n",
              "    </tr>\n",
              "    <tr>\n",
              "      <th>26</th>\n",
              "      <td>pic</td>\n",
              "      <td>高清 ： 小威 进中网 女单 四强   黑珍珠 回球 从容 淡定 责编 : 陈国庆   日期...</td>\n",
              "    </tr>\n",
              "    <tr>\n",
              "      <th>27</th>\n",
              "      <td>sports</td>\n",
              "      <td>克鲁尼 奇 ： 三人 缺席 阿尔滨 靠 整体   客场 争取 三分 高清 : 阿尔滨 备战 ...</td>\n",
              "    </tr>\n",
              "    <tr>\n",
              "      <th>28</th>\n",
              "      <td>pic</td>\n",
              "      <td>高清 ： 泰达 踩场 诸 将 喜笑颜开   周海滨 射门 玩 凌空 来源 :   搜狐 体育...</td>\n",
              "    </tr>\n",
              "    <tr>\n",
              "      <th>29</th>\n",
              "      <td>news</td>\n",
              "      <td>这 不是 羊肉 卷 ！ “ 土豪 婆家 ” 送 500 万 聘礼 ( 图 ) 图片 来自 微...</td>\n",
              "    </tr>\n",
              "    <tr>\n",
              "      <th>...</th>\n",
              "      <td>...</td>\n",
              "      <td>...</td>\n",
              "    </tr>\n",
              "    <tr>\n",
              "      <th>5891</th>\n",
              "      <td>business</td>\n",
              "      <td>出门 旅游 过大年 — — 春节 黄金周 落幕 新华社 北京 2 月 13 日电   题 :...</td>\n",
              "    </tr>\n",
              "    <tr>\n",
              "      <th>5892</th>\n",
              "      <td>business</td>\n",
              "      <td>长三角 高铁 成网 带动 出游   春节假期 发送 旅客 845.4 万人 中新网 杭州 2...</td>\n",
              "    </tr>\n",
              "    <tr>\n",
              "      <th>5893</th>\n",
              "      <td>news</td>\n",
              "      <td>富 二代 载 美女 超速 醉 驾致 5 死   现场 曝光 ( 图 ) 现场图   现场图 ...</td>\n",
              "    </tr>\n",
              "    <tr>\n",
              "      <th>5894</th>\n",
              "      <td>business</td>\n",
              "      <td>上海 实体 商业 回暖 ， 春节 消费市场 同比 增长 8.2% 新华社 上海 2 月 13...</td>\n",
              "    </tr>\n",
              "    <tr>\n",
              "      <th>5895</th>\n",
              "      <td>sports</td>\n",
              "      <td>西媒 曝厄 齐尔拒 续约 枪手   巴萨 或 挖 昔日 皇马 核心 巴萨 有意 厄齐尔 ? ...</td>\n",
              "    </tr>\n",
              "    <tr>\n",
              "      <th>5896</th>\n",
              "      <td>yule</td>\n",
              "      <td>网友 解读 《 美人鱼 》 24 大 细节   堪称 二刷 观影 宝典 《 美人鱼 》 结尾...</td>\n",
              "    </tr>\n",
              "    <tr>\n",
              "      <th>5897</th>\n",
              "      <td>news</td>\n",
              "      <td>春节 期间 全国 火灾 形势 平稳 为 加强 春节 期间 火灾 防控 工作 , 公安消防 部...</td>\n",
              "    </tr>\n",
              "    <tr>\n",
              "      <th>5898</th>\n",
              "      <td>business</td>\n",
              "      <td>滴滴 代驾 公布 春节 十大 聚会 地   福州人 春节 赶场 最 忙 中新网 2 月 13...</td>\n",
              "    </tr>\n",
              "    <tr>\n",
              "      <th>5899</th>\n",
              "      <td>news</td>\n",
              "      <td>周小川 ： 人民币 没有 持续 贬值 基础 【   本文 获财新 传媒 授权 转载 , 未经...</td>\n",
              "    </tr>\n",
              "    <tr>\n",
              "      <th>5900</th>\n",
              "      <td>sports</td>\n",
              "      <td>京媒 ： 中超 诸强 出手 不软   国安 依然 “ 市场规律 ” 昨天 , 前 曼城 前锋...</td>\n",
              "    </tr>\n",
              "    <tr>\n",
              "      <th>5901</th>\n",
              "      <td>business</td>\n",
              "      <td>春节 财经 要闻 回顾 ： 全球 市场 惨跌   周小川 力挺 人民币 刚过去 的 春节假期...</td>\n",
              "    </tr>\n",
              "    <tr>\n",
              "      <th>5902</th>\n",
              "      <td>business</td>\n",
              "      <td>2015 年 中国 游客 境外 消费 约 1.2 万亿元 　 促 消费 回流 任重道远 新华...</td>\n",
              "    </tr>\n",
              "    <tr>\n",
              "      <th>5903</th>\n",
              "      <td>sports</td>\n",
              "      <td>埃斯库 德罗 确认 已 与 苏宁 解约   深情 致谢 江苏 球迷 埃斯库 德罗 解约 苏宁...</td>\n",
              "    </tr>\n",
              "    <tr>\n",
              "      <th>5904</th>\n",
              "      <td>sports</td>\n",
              "      <td>新 主掌 国米 3 年 负债 超 4 亿   莫拉蒂 或 因爱 酝酿 回购 莫拉蒂 或 因爱...</td>\n",
              "    </tr>\n",
              "    <tr>\n",
              "      <th>5905</th>\n",
              "      <td>news</td>\n",
              "      <td>外汇局 2016 年 将 加大 对 违规 银行 处罚 新华社 北京 2 月 13 日电 ( ...</td>\n",
              "    </tr>\n",
              "    <tr>\n",
              "      <th>5906</th>\n",
              "      <td>business</td>\n",
              "      <td>“ 十三 五 ” 能源 规划 编制 进入 冲刺 阶段 新华社 北京 2 月 13 日电 ( ...</td>\n",
              "    </tr>\n",
              "    <tr>\n",
              "      <th>5907</th>\n",
              "      <td>news</td>\n",
              "      <td>中国 多条 主要 公路交通 受 雨雪 大雾 等 天气 影响 人民网 北京 2 月 13 日电...</td>\n",
              "    </tr>\n",
              "    <tr>\n",
              "      <th>5908</th>\n",
              "      <td>sports</td>\n",
              "      <td>科比 胜过 乔丹 ?   麦蒂 : 飞侠 乃 我 所 遇过 最 优秀 球员 北京 时间 2 ...</td>\n",
              "    </tr>\n",
              "    <tr>\n",
              "      <th>5909</th>\n",
              "      <td>news</td>\n",
              "      <td>北京 周边 高速 受 降雪 影响 大面积 封路 法制晚报 讯 ( 实习 记者   张婷 ) ...</td>\n",
              "    </tr>\n",
              "    <tr>\n",
              "      <th>5910</th>\n",
              "      <td>cul</td>\n",
              "      <td>阎   肃 ｜ 经典作品 欣赏 1 . 《 我 爱祖国 的 蓝天 》   2 . 《 红梅赞...</td>\n",
              "    </tr>\n",
              "    <tr>\n",
              "      <th>5911</th>\n",
              "      <td>news</td>\n",
              "      <td>香港 正值 冬季 流感 高峰期   12 人 死亡 中新网 2 月 13 日电   据 香港...</td>\n",
              "    </tr>\n",
              "    <tr>\n",
              "      <th>5912</th>\n",
              "      <td>business</td>\n",
              "      <td>煤价 腰斩 过半 热费 才 降 两 三元   为何 降 得 这么 少 ？ 北方 城市 , 冬...</td>\n",
              "    </tr>\n",
              "    <tr>\n",
              "      <th>5913</th>\n",
              "      <td>news</td>\n",
              "      <td>大雾 给 节后 返程 交通 “ 添堵 ” 2 月 12 日 , 正月初五 , 公铁 空 全面...</td>\n",
              "    </tr>\n",
              "    <tr>\n",
              "      <th>5914</th>\n",
              "      <td>business</td>\n",
              "      <td>低 油价 的 代价 ： 能源 公司股票 分红 今年 或降 120 亿美元 金融 数据 提供商...</td>\n",
              "    </tr>\n",
              "    <tr>\n",
              "      <th>5915</th>\n",
              "      <td>news</td>\n",
              "      <td>中央气象台 发布 寒潮 黄色 预警   中东部 大风 强 降温 中新网 2 月 13 日电 ...</td>\n",
              "    </tr>\n",
              "    <tr>\n",
              "      <th>5916</th>\n",
              "      <td>pic</td>\n",
              "      <td>高清 图 ： 全明星 接受 采访   科比 人气 爆棚 库里 淡定 责编 : 程逵 达   ...</td>\n",
              "    </tr>\n",
              "    <tr>\n",
              "      <th>5917</th>\n",
              "      <td>pic</td>\n",
              "      <td>高清 图 ： 名人堂 公布 候选 名单   姚明 奥胖 答案 入围 责编 : 程逵 达   ...</td>\n",
              "    </tr>\n",
              "    <tr>\n",
              "      <th>5918</th>\n",
              "      <td>sports</td>\n",
              "      <td>姚明 秀 幽默 ： 地板 能够 承受 我 和 奥尼尔 体重 吗 ？ 奥尼尔 姚明   北京 ...</td>\n",
              "    </tr>\n",
              "    <tr>\n",
              "      <th>5919</th>\n",
              "      <td>news</td>\n",
              "      <td>美国 科学家 宣布 发现 引力波   广义 相对论 预言 获证 科学家 在 华盛顿 宣布 探...</td>\n",
              "    </tr>\n",
              "    <tr>\n",
              "      <th>5920</th>\n",
              "      <td>sports</td>\n",
              "      <td>科比 全明星 谢幕 ！ 库里 要 送 助攻   詹皇威 少表 忠心 北京 时间 2 月 13...</td>\n",
              "    </tr>\n",
              "  </tbody>\n",
              "</table>\n",
              "<p>5921 rows × 2 columns</p>\n",
              "</div>"
            ],
            "text/plain": [
              "         label                                               text\n",
              "0          pic  高清 ： 彭帅 谢淑薇 遗憾 遭 逆转 出局   击掌 互相 鼓励 责编 : 马克 杰   ...\n",
              "1         news  河南 周口 路边 秸秆 燃烧   2 岁 幼儿 被 熏 晕 ( 图 )     10 月 3...\n",
              "2         news  消息 称 138 名 中国 劳工 在 菲律宾 被 抓   使馆 正 核实 【 使馆 正 核实...\n",
              "3         news  越南 重要 军事 领导人 武元甲 大将 去世   享年 102 岁 据 美国 媒体 10 月...\n",
              "4         news  西沙 搜救 已 发现 6 具 遇难 渔民 遗体   尚有 52 人 失踪 【 已 发现 6 ...\n",
              "5          pic  10 月 4 日 十佳 图 ： 李娜 小德 球迷 抢眼   大威 显 文静 责编 : 马克 ...\n",
              "6          pic  高清 ： 小德 速胜 高举 双臂 庆祝   鼓掌 向 球迷 们 致意 责编 : 马克 杰  ...\n",
              "7       sports  卡努特 伤愈 将 首发 战辽足   斯塔诺 ： 辽足 不好 对付 高清 : 国安 踩场 卡努...\n",
              "8         news  美 “ 宙斯 盾 ” 系统 成功 进行 反导 试验 新华网 华盛顿 10 月 4 日电 ( ...\n",
              "9         news  3 中国 建筑 工 俄罗斯 身亡 【 3 中国 建筑 工 俄罗斯 身亡 】 俄 伊尔库茨克州...\n",
              "10        news  山西 煤矿 透水 事故 排水 5 万立方米   仍 有 12 人 被困 中新社 汾阳 10 ...\n",
              "11      sports  现场 ： 彭帅 暴力 发球 遭 无视   主裁 秀 中文 “ 谢谢 ” 北京 时间 9 月 ...\n",
              "12        news  扬州 警方 ： 一名 游客 在 扬州 博物馆 自主 坠楼 身亡 【 一 游客 在 扬州 坠亡...\n",
              "13         pic  高清 ： 费雷尔 爆冷 负 黯然 离场   加斯 奎特 潇洒 回球 责编 : 马克 杰   ...\n",
              "14        news  国 足 新一期 集训 名单 出炉   恒大八人 入选 新华网 北京 10 月 4 日电 ( ...\n",
              "15        news  越南 抗法 、 抗美 战争 重要 军事 领导人 武元甲 去世     人民日报 无线 新 媒...\n",
              "16      sports  客战莱 万特 皇马 不容 有失   劳尔 二世 或 替 大本 首发 北京 时间 10 月 6...\n",
              "17    business  香港 国际 机场 荣登 TTG 旅游 大奖 名人堂 新华网 香港 10 月 4 日电   香...\n",
              "18         pic  高清 ： 阿尔滨 备战 于汉超 状态 勇   陈涛 于 大宝 缺席 来源 :   搜狐 体育...\n",
              "19         pic  高清 ： 国安 踩场 卡努特 卖力   对抗赛 神勇 奔跑 如风 来源 :   搜狐 体育 ...\n",
              "20      sports  男排 亚锦赛 - 中国 3 - 1 逆转 印度   半决赛 战澳 韩 胜者 北京 时间 10...\n",
              "21        news  房地产 企业 呼吁 取消 土地 拍卖 ： 不愿 高价 拿 地 新华社 兰州 10 月 4 日...\n",
              "22      sports  5 日 前瞻 - 小德小威 纳达尔 力争 决赛   女双 将 出 冠军 北京 时间 10 月...\n",
              "23        news  天津 机场 多措 并举 保障 东亚 运动会 接待 顺利 中新网 天津 10 月 4 日电 (...\n",
              "24        news  旅客 动车 吸烟 现象 频现   南昌铁路局 吁 文明 出行 中新网 福州 10 月 4 日...\n",
              "25      sports  小 威胁 抽烟 被 逮 却 自比 齐祖   温格 斥 ： 犯 双重 错误 《 邮报 》 曝光...\n",
              "26         pic  高清 ： 小威 进中网 女单 四强   黑珍珠 回球 从容 淡定 责编 : 陈国庆   日期...\n",
              "27      sports  克鲁尼 奇 ： 三人 缺席 阿尔滨 靠 整体   客场 争取 三分 高清 : 阿尔滨 备战 ...\n",
              "28         pic  高清 ： 泰达 踩场 诸 将 喜笑颜开   周海滨 射门 玩 凌空 来源 :   搜狐 体育...\n",
              "29        news  这 不是 羊肉 卷 ！ “ 土豪 婆家 ” 送 500 万 聘礼 ( 图 ) 图片 来自 微...\n",
              "...        ...                                                ...\n",
              "5891  business  出门 旅游 过大年 — — 春节 黄金周 落幕 新华社 北京 2 月 13 日电   题 :...\n",
              "5892  business  长三角 高铁 成网 带动 出游   春节假期 发送 旅客 845.4 万人 中新网 杭州 2...\n",
              "5893      news  富 二代 载 美女 超速 醉 驾致 5 死   现场 曝光 ( 图 ) 现场图   现场图 ...\n",
              "5894  business  上海 实体 商业 回暖 ， 春节 消费市场 同比 增长 8.2% 新华社 上海 2 月 13...\n",
              "5895    sports  西媒 曝厄 齐尔拒 续约 枪手   巴萨 或 挖 昔日 皇马 核心 巴萨 有意 厄齐尔 ? ...\n",
              "5896      yule  网友 解读 《 美人鱼 》 24 大 细节   堪称 二刷 观影 宝典 《 美人鱼 》 结尾...\n",
              "5897      news  春节 期间 全国 火灾 形势 平稳 为 加强 春节 期间 火灾 防控 工作 , 公安消防 部...\n",
              "5898  business  滴滴 代驾 公布 春节 十大 聚会 地   福州人 春节 赶场 最 忙 中新网 2 月 13...\n",
              "5899      news  周小川 ： 人民币 没有 持续 贬值 基础 【   本文 获财新 传媒 授权 转载 , 未经...\n",
              "5900    sports  京媒 ： 中超 诸强 出手 不软   国安 依然 “ 市场规律 ” 昨天 , 前 曼城 前锋...\n",
              "5901  business  春节 财经 要闻 回顾 ： 全球 市场 惨跌   周小川 力挺 人民币 刚过去 的 春节假期...\n",
              "5902  business  2015 年 中国 游客 境外 消费 约 1.2 万亿元 　 促 消费 回流 任重道远 新华...\n",
              "5903    sports  埃斯库 德罗 确认 已 与 苏宁 解约   深情 致谢 江苏 球迷 埃斯库 德罗 解约 苏宁...\n",
              "5904    sports  新 主掌 国米 3 年 负债 超 4 亿   莫拉蒂 或 因爱 酝酿 回购 莫拉蒂 或 因爱...\n",
              "5905      news  外汇局 2016 年 将 加大 对 违规 银行 处罚 新华社 北京 2 月 13 日电 ( ...\n",
              "5906  business  “ 十三 五 ” 能源 规划 编制 进入 冲刺 阶段 新华社 北京 2 月 13 日电 ( ...\n",
              "5907      news  中国 多条 主要 公路交通 受 雨雪 大雾 等 天气 影响 人民网 北京 2 月 13 日电...\n",
              "5908    sports  科比 胜过 乔丹 ?   麦蒂 : 飞侠 乃 我 所 遇过 最 优秀 球员 北京 时间 2 ...\n",
              "5909      news  北京 周边 高速 受 降雪 影响 大面积 封路 法制晚报 讯 ( 实习 记者   张婷 ) ...\n",
              "5910       cul  阎   肃 ｜ 经典作品 欣赏 1 . 《 我 爱祖国 的 蓝天 》   2 . 《 红梅赞...\n",
              "5911      news  香港 正值 冬季 流感 高峰期   12 人 死亡 中新网 2 月 13 日电   据 香港...\n",
              "5912  business  煤价 腰斩 过半 热费 才 降 两 三元   为何 降 得 这么 少 ？ 北方 城市 , 冬...\n",
              "5913      news  大雾 给 节后 返程 交通 “ 添堵 ” 2 月 12 日 , 正月初五 , 公铁 空 全面...\n",
              "5914  business  低 油价 的 代价 ： 能源 公司股票 分红 今年 或降 120 亿美元 金融 数据 提供商...\n",
              "5915      news  中央气象台 发布 寒潮 黄色 预警   中东部 大风 强 降温 中新网 2 月 13 日电 ...\n",
              "5916       pic  高清 图 ： 全明星 接受 采访   科比 人气 爆棚 库里 淡定 责编 : 程逵 达   ...\n",
              "5917       pic  高清 图 ： 名人堂 公布 候选 名单   姚明 奥胖 答案 入围 责编 : 程逵 达   ...\n",
              "5918    sports  姚明 秀 幽默 ： 地板 能够 承受 我 和 奥尼尔 体重 吗 ？ 奥尼尔 姚明   北京 ...\n",
              "5919      news  美国 科学家 宣布 发现 引力波   广义 相对论 预言 获证 科学家 在 华盛顿 宣布 探...\n",
              "5920    sports  科比 全明星 谢幕 ！ 库里 要 送 助攻   詹皇威 少表 忠心 北京 时间 2 月 13...\n",
              "\n",
              "[5921 rows x 2 columns]"
            ]
          },
          "metadata": {
            "tags": []
          },
          "execution_count": 35
        }
      ]
    },
    {
      "cell_type": "code",
      "metadata": {
        "id": "X-wV6FTlk6Ce",
        "colab_type": "code",
        "colab": {}
      },
      "source": [
        "tokenizer = Tokenizer()\n",
        "tokenizer.fit_on_texts(X)\n",
        "sequences = tokenizer.texts_to_sequences(X)\n",
        "X = pad_sequences(sequences, maxlen=100)"
      ],
      "execution_count": 0,
      "outputs": []
    },
    {
      "cell_type": "code",
      "metadata": {
        "id": "4ch__nbuEAM1",
        "colab_type": "code",
        "colab": {}
      },
      "source": [
        "voca_size =len(tokenizer.word_index)"
      ],
      "execution_count": 0,
      "outputs": []
    },
    {
      "cell_type": "code",
      "metadata": {
        "id": "NgvSz79exath",
        "colab_type": "code",
        "colab": {}
      },
      "source": [
        "#划分训练集、测试集\n",
        "from sklearn.model_selection import train_test_split\n",
        "X_train, X_test, Y_train, Y_test = train_test_split(X, Y, test_size=0.25, random_state=42)"
      ],
      "execution_count": 0,
      "outputs": []
    },
    {
      "cell_type": "code",
      "metadata": {
        "id": "FezlnwRvzHlw",
        "colab_type": "code",
        "colab": {
          "base_uri": "https://localhost:8080/",
          "height": 34
        },
        "outputId": "eb671c88-07d3-4100-86c3-c46555f4add4"
      },
      "source": [
        "X_train.shape"
      ],
      "execution_count": 39,
      "outputs": [
        {
          "output_type": "execute_result",
          "data": {
            "text/plain": [
              "(4440, 100)"
            ]
          },
          "metadata": {
            "tags": []
          },
          "execution_count": 39
        }
      ]
    },
    {
      "cell_type": "code",
      "metadata": {
        "id": "lr9LUOgDB1k6",
        "colab_type": "code",
        "colab": {}
      },
      "source": [
        "# checkpoint_path = \"model1.ckpt\"\n",
        "# checkpoint_dir = os.path.dirname(checkpoint_path)\n",
        "\n",
        "# # Create checkpoint callback\n",
        "# cp_callback = tf.keras.callbacks.ModelCheckpoint(checkpoint_path,\n",
        "#                                                  save_weights_only=True,\n",
        "#                                                  verbose=1)\n",
        "\n",
        "# # This may generate warnings related to saving the state of the optimizer.\n",
        "# # These warnings (and similar warnings throughout this notebook)\n",
        "# # are in place to discourage outdated usage, and can be ignored."
      ],
      "execution_count": 0,
      "outputs": []
    },
    {
      "cell_type": "code",
      "metadata": {
        "id": "D5BLNWTEk6AH",
        "colab_type": "code",
        "colab": {
          "base_uri": "https://localhost:8080/",
          "height": 470
        },
        "outputId": "8b0fef44-4632-4a06-8e9a-14e74cb1399c"
      },
      "source": [
        "model = Sequential()\n",
        "model.add(Embedding(voca_size+1, 128, input_length=100))\n",
        "model.add(LSTM(200, dropout=0.2, recurrent_dropout=0.2))\n",
        "model.add(Dropout(0.2))\n",
        "model.add(Dense(8, activation='softmax'))\n",
        "model.summary()\n",
        "\n",
        "model.compile(loss='binary_crossentropy', optimizer='adam', metrics=['accuracy'])\n",
        "\n",
        "model.fit(X_train, Y_train, validation_data=(X_test, Y_test), batch_size=50, epochs=5)"
      ],
      "execution_count": 41,
      "outputs": [
        {
          "output_type": "stream",
          "text": [
            "_________________________________________________________________\n",
            "Layer (type)                 Output Shape              Param #   \n",
            "=================================================================\n",
            "embedding_2 (Embedding)      (None, 100, 128)          14422784  \n",
            "_________________________________________________________________\n",
            "lstm_2 (LSTM)                (None, 200)               263200    \n",
            "_________________________________________________________________\n",
            "dropout_5 (Dropout)          (None, 200)               0         \n",
            "_________________________________________________________________\n",
            "dense_4 (Dense)              (None, 8)                 1608      \n",
            "=================================================================\n",
            "Total params: 14,687,592\n",
            "Trainable params: 14,687,592\n",
            "Non-trainable params: 0\n",
            "_________________________________________________________________\n",
            "Train on 4440 samples, validate on 1481 samples\n",
            "Epoch 1/5\n",
            "4440/4440 [==============================] - 50s 11ms/step - loss: 0.2605 - acc: 0.8927 - val_loss: 0.2055 - val_acc: 0.9222\n",
            "Epoch 2/5\n",
            "4440/4440 [==============================] - 48s 11ms/step - loss: 0.1398 - acc: 0.9482 - val_loss: 0.1605 - val_acc: 0.9353\n",
            "Epoch 3/5\n",
            "4440/4440 [==============================] - 48s 11ms/step - loss: 0.0786 - acc: 0.9708 - val_loss: 0.1744 - val_acc: 0.9321\n",
            "Epoch 4/5\n",
            "4440/4440 [==============================] - 48s 11ms/step - loss: 0.0559 - acc: 0.9804 - val_loss: 0.1675 - val_acc: 0.9394\n",
            "Epoch 5/5\n",
            "4440/4440 [==============================] - 48s 11ms/step - loss: 0.0455 - acc: 0.9827 - val_loss: 0.1909 - val_acc: 0.9370\n"
          ],
          "name": "stdout"
        },
        {
          "output_type": "execute_result",
          "data": {
            "text/plain": [
              "<keras.callbacks.History at 0x7fa0a48aceb8>"
            ]
          },
          "metadata": {
            "tags": []
          },
          "execution_count": 41
        }
      ]
    },
    {
      "cell_type": "markdown",
      "metadata": {
        "id": "dnfNc1fJMiuV",
        "colab_type": "text"
      },
      "source": [
        "**use test dataset as validation_data to quickly preview the accuracy and loss of the model on test dataset.**"
      ]
    },
    {
      "cell_type": "code",
      "metadata": {
        "id": "DtZcLrMNJ5xP",
        "colab_type": "code",
        "colab": {
          "base_uri": "https://localhost:8080/",
          "height": 34
        },
        "outputId": "f18fea92-cbd4-4af7-b826-2e4621e86b66"
      },
      "source": [
        "print(\"accuracy = 0.9371\")"
      ],
      "execution_count": 42,
      "outputs": [
        {
          "output_type": "stream",
          "text": [
            "accuracy = 0.9371\n"
          ],
          "name": "stdout"
        }
      ]
    },
    {
      "cell_type": "markdown",
      "metadata": {
        "id": "tEk7sUpXNg9U",
        "colab_type": "text"
      },
      "source": [
        "#2、使用CNN完成图像分类任务\n",
        "基于CIFAR-10数据集（https://www.cs.toronto.edu/~kriz/cifar.html）\n",
        "\n"
      ]
    },
    {
      "cell_type": "code",
      "metadata": {
        "id": "Ahd3qmkBe10E",
        "colab_type": "code",
        "colab": {}
      },
      "source": [
        "from __future__ import print_function\n",
        "from keras.datasets import cifar10\n",
        "from keras.preprocessing.image import ImageDataGenerator\n",
        "from keras.layers import Conv2D, MaxPooling2D\n",
        "import os"
      ],
      "execution_count": 0,
      "outputs": []
    },
    {
      "cell_type": "code",
      "metadata": {
        "id": "3TP9rp7me12Y",
        "colab_type": "code",
        "colab": {
          "base_uri": "https://localhost:8080/",
          "height": 34
        },
        "outputId": "95c0b269-ec71-4286-c679-e7c9637bb013"
      },
      "source": [
        "(x_train, y_train), (x_test, y_test) = cifar10.load_data()\n",
        "x_train = x_train.astype('float32')\n",
        "x_test = x_test.astype('float32')\n",
        "x_train.shape"
      ],
      "execution_count": 44,
      "outputs": [
        {
          "output_type": "execute_result",
          "data": {
            "text/plain": [
              "(50000, 32, 32, 3)"
            ]
          },
          "metadata": {
            "tags": []
          },
          "execution_count": 44
        }
      ]
    },
    {
      "cell_type": "markdown",
      "metadata": {
        "id": "ME9Jy8-Rssa9",
        "colab_type": "text"
      },
      "source": [
        "\n",
        "*   It is most common to use 32-bit precision when training a neural network, so at one point the training data will have to be converted to 32 bit floats. Since the dataset fits easily in RAM, we might as well convert to float immediately.\n",
        "*   Regarding the division by 255, this is the maximum value of a byte (the input feature's type before the conversion to float32), so this will ensure that the input features are scaled between 0.0 and 1.0. This is not compulsory, but I usually prefer to have input features about that scale so that the default learning rate (and other hyperparameters) work reasonably well, and so that the cost can take on reasonable values that I am used to. For example, suppose the scale is 100 times the scale you are used to, then the learning rate should be 100 times smaller than you are used to, and the loss will be larger than usual (if it is the mean squared error, the loss will likely be 100^2=10000 times larger than you are used to)."
      ]
    },
    {
      "cell_type": "code",
      "metadata": {
        "id": "RM_u0C88oa7N",
        "colab_type": "code",
        "colab": {
          "base_uri": "https://localhost:8080/",
          "height": 118
        },
        "outputId": "3379ce16-a188-4bb2-ad56-0c03efbcf734"
      },
      "source": [
        "# Normalize image vectors\n",
        "X2_train = x_train/255.\n",
        "X2_test = x_test/255.\n",
        "\n",
        "# Category\n",
        "Y2_train = keras.utils.to_categorical(y_train, num_classes=10,dtype='float32')\n",
        "Y2_test = keras.utils.to_categorical(y_test, num_classes=10,dtype='float32')\n",
        "\n",
        "print (\"number of training examples = \" + str(X2_train.shape[0]))\n",
        "print (\"number of test examples = \" + str(X2_test.shape[0]))\n",
        "print (\"X_train shape: \" + str(X2_train.shape))\n",
        "print (\"Y_train shape: \" + str(Y2_train.shape))\n",
        "print (\"X_test shape: \" + str(X2_test.shape))\n",
        "print (\"Y_test shape: \" + str(Y2_test.shape))"
      ],
      "execution_count": 45,
      "outputs": [
        {
          "output_type": "stream",
          "text": [
            "number of training examples = 50000\n",
            "number of test examples = 10000\n",
            "X_train shape: (50000, 32, 32, 3)\n",
            "Y_train shape: (50000, 10)\n",
            "X_test shape: (10000, 32, 32, 3)\n",
            "Y_test shape: (10000, 10)\n"
          ],
          "name": "stdout"
        }
      ]
    },
    {
      "cell_type": "code",
      "metadata": {
        "id": "VNvk6tXOobA9",
        "colab_type": "code",
        "colab": {
          "base_uri": "https://localhost:8080/",
          "height": 134
        },
        "outputId": "6b933d1e-dcf3-4001-f50f-2054176f3bbd"
      },
      "source": [
        "Y2_test"
      ],
      "execution_count": 46,
      "outputs": [
        {
          "output_type": "execute_result",
          "data": {
            "text/plain": [
              "array([[0., 0., 0., ..., 0., 0., 0.],\n",
              "       [0., 0., 0., ..., 0., 1., 0.],\n",
              "       [0., 0., 0., ..., 0., 1., 0.],\n",
              "       ...,\n",
              "       [0., 0., 0., ..., 0., 0., 0.],\n",
              "       [0., 1., 0., ..., 0., 0., 0.],\n",
              "       [0., 0., 0., ..., 1., 0., 0.]], dtype=float32)"
            ]
          },
          "metadata": {
            "tags": []
          },
          "execution_count": 46
        }
      ]
    },
    {
      "cell_type": "code",
      "metadata": {
        "id": "nXogLGY4AhMC",
        "colab_type": "code",
        "colab": {}
      },
      "source": [
        "# checkpoint_path2 = \"model2.ckpt\"\n",
        "# checkpoint_dir2 = os.path.dirname(checkpoint_path2)\n",
        "\n",
        "# # Create checkpoint callback\n",
        "# cp_callback2 = tf.keras.callbacks.ModelCheckpoint(checkpoint_path2,\n",
        "#                                                  save_weights_only=True,\n",
        "#                                                  verbose=1)\n",
        "\n",
        "# # This may generate warnings related to saving the state of the optimizer.\n",
        "# # These warnings (and similar warnings throughout this notebook)\n",
        "# # are in place to discourage outdated usage, and can be ignored."
      ],
      "execution_count": 0,
      "outputs": []
    },
    {
      "cell_type": "code",
      "metadata": {
        "id": "C2Nip-bGoa5b",
        "colab_type": "code",
        "colab": {}
      },
      "source": [
        "batch_size = 200\n",
        "num_classes = 10\n",
        "epochs = 30\n",
        "data_augmentation = True\n",
        "num_predictions = 20\n",
        "\n",
        "model2 = Sequential()\n",
        "model2.add(Conv2D(32, (3, 3), padding='same',\n",
        "                 input_shape=x_train.shape[1:]))\n",
        "model2.add(Activation('relu'))\n",
        "model2.add(Conv2D(32, (3, 3)))\n",
        "model2.add(Activation('relu'))\n",
        "model2.add(MaxPooling2D(pool_size=(2, 2)))\n",
        "model2.add(Dropout(0.25))\n",
        "\n",
        "model2.add(Conv2D(64, (3, 3), padding='same'))\n",
        "model2.add(Activation('relu'))\n",
        "model2.add(Conv2D(64, (3, 3)))\n",
        "model2.add(Activation('relu'))\n",
        "model2.add(MaxPooling2D(pool_size=(2, 2)))\n",
        "model2.add(Dropout(0.25))\n",
        "\n",
        "model2.add(Flatten())\n",
        "model2.add(Dense(512))\n",
        "model2.add(Activation('relu'))\n",
        "model2.add(Dropout(0.2))\n",
        "model2.add(Dense(num_classes))\n",
        "model2.add(Activation('softmax'))"
      ],
      "execution_count": 0,
      "outputs": []
    },
    {
      "cell_type": "code",
      "metadata": {
        "id": "0o6FX7_oyIhM",
        "colab_type": "code",
        "colab": {}
      },
      "source": [
        "opt = keras.optimizers.rmsprop(lr=0.0001, decay=1e-6)\n",
        "model2.compile(loss='categorical_crossentropy',optimizer=opt,metrics=['accuracy'])"
      ],
      "execution_count": 0,
      "outputs": []
    },
    {
      "cell_type": "code",
      "metadata": {
        "id": "HQfYUNkrp0rb",
        "colab_type": "code",
        "colab": {
          "base_uri": "https://localhost:8080/",
          "height": 1781
        },
        "outputId": "41a58ef6-1fcc-4384-b854-c0d2fc79d226"
      },
      "source": [
        "model2.summary()\n",
        "model2.fit(X2_train, Y2_train,batch_size, epochs, validation_data=(X2_test, Y2_test), shuffle=True)"
      ],
      "execution_count": 50,
      "outputs": [
        {
          "output_type": "stream",
          "text": [
            "_________________________________________________________________\n",
            "Layer (type)                 Output Shape              Param #   \n",
            "=================================================================\n",
            "conv2d_5 (Conv2D)            (None, 32, 32, 32)        896       \n",
            "_________________________________________________________________\n",
            "activation_7 (Activation)    (None, 32, 32, 32)        0         \n",
            "_________________________________________________________________\n",
            "conv2d_6 (Conv2D)            (None, 30, 30, 32)        9248      \n",
            "_________________________________________________________________\n",
            "activation_8 (Activation)    (None, 30, 30, 32)        0         \n",
            "_________________________________________________________________\n",
            "max_pooling2d_3 (MaxPooling2 (None, 15, 15, 32)        0         \n",
            "_________________________________________________________________\n",
            "dropout_6 (Dropout)          (None, 15, 15, 32)        0         \n",
            "_________________________________________________________________\n",
            "conv2d_7 (Conv2D)            (None, 15, 15, 64)        18496     \n",
            "_________________________________________________________________\n",
            "activation_9 (Activation)    (None, 15, 15, 64)        0         \n",
            "_________________________________________________________________\n",
            "conv2d_8 (Conv2D)            (None, 13, 13, 64)        36928     \n",
            "_________________________________________________________________\n",
            "activation_10 (Activation)   (None, 13, 13, 64)        0         \n",
            "_________________________________________________________________\n",
            "max_pooling2d_4 (MaxPooling2 (None, 6, 6, 64)          0         \n",
            "_________________________________________________________________\n",
            "dropout_7 (Dropout)          (None, 6, 6, 64)          0         \n",
            "_________________________________________________________________\n",
            "flatten_2 (Flatten)          (None, 2304)              0         \n",
            "_________________________________________________________________\n",
            "dense_5 (Dense)              (None, 512)               1180160   \n",
            "_________________________________________________________________\n",
            "activation_11 (Activation)   (None, 512)               0         \n",
            "_________________________________________________________________\n",
            "dropout_8 (Dropout)          (None, 512)               0         \n",
            "_________________________________________________________________\n",
            "dense_6 (Dense)              (None, 10)                5130      \n",
            "_________________________________________________________________\n",
            "activation_12 (Activation)   (None, 10)                0         \n",
            "=================================================================\n",
            "Total params: 1,250,858\n",
            "Trainable params: 1,250,858\n",
            "Non-trainable params: 0\n",
            "_________________________________________________________________\n",
            "Train on 50000 samples, validate on 10000 samples\n",
            "Epoch 1/30\n",
            "50000/50000 [==============================] - 227s 5ms/step - loss: 1.9723 - acc: 0.2797 - val_loss: 1.7818 - val_acc: 0.3590\n",
            "Epoch 2/30\n",
            "50000/50000 [==============================] - 226s 5ms/step - loss: 1.6992 - acc: 0.3859 - val_loss: 1.6042 - val_acc: 0.4181\n",
            "Epoch 3/30\n",
            "50000/50000 [==============================] - 225s 5ms/step - loss: 1.5967 - acc: 0.4212 - val_loss: 1.5274 - val_acc: 0.4535\n",
            "Epoch 4/30\n",
            "50000/50000 [==============================] - 226s 5ms/step - loss: 1.5256 - acc: 0.4509 - val_loss: 1.4516 - val_acc: 0.4791\n",
            "Epoch 5/30\n",
            "50000/50000 [==============================] - 225s 5ms/step - loss: 1.4693 - acc: 0.4738 - val_loss: 1.3971 - val_acc: 0.4992\n",
            "Epoch 6/30\n",
            "50000/50000 [==============================] - 225s 5ms/step - loss: 1.4095 - acc: 0.4975 - val_loss: 1.3370 - val_acc: 0.5223\n",
            "Epoch 7/30\n",
            "50000/50000 [==============================] - 225s 5ms/step - loss: 1.3605 - acc: 0.5138 - val_loss: 1.2819 - val_acc: 0.5476\n",
            "Epoch 8/30\n",
            "50000/50000 [==============================] - 226s 5ms/step - loss: 1.3171 - acc: 0.5338 - val_loss: 1.2385 - val_acc: 0.5653\n",
            "Epoch 9/30\n",
            "50000/50000 [==============================] - 224s 4ms/step - loss: 1.2812 - acc: 0.5475 - val_loss: 1.2502 - val_acc: 0.5616\n",
            "Epoch 10/30\n",
            "50000/50000 [==============================] - 225s 4ms/step - loss: 1.2435 - acc: 0.5634 - val_loss: 1.1827 - val_acc: 0.5856\n",
            "Epoch 11/30\n",
            "50000/50000 [==============================] - 224s 4ms/step - loss: 1.2110 - acc: 0.5739 - val_loss: 1.1823 - val_acc: 0.5862\n",
            "Epoch 12/30\n",
            "50000/50000 [==============================] - 223s 4ms/step - loss: 1.1800 - acc: 0.5868 - val_loss: 1.1424 - val_acc: 0.5996\n",
            "Epoch 13/30\n",
            "50000/50000 [==============================] - 223s 4ms/step - loss: 1.1486 - acc: 0.5966 - val_loss: 1.1068 - val_acc: 0.6140\n",
            "Epoch 14/30\n",
            "50000/50000 [==============================] - 222s 4ms/step - loss: 1.1253 - acc: 0.6066 - val_loss: 1.1267 - val_acc: 0.6058\n",
            "Epoch 15/30\n",
            "50000/50000 [==============================] - 223s 4ms/step - loss: 1.0975 - acc: 0.6162 - val_loss: 1.0383 - val_acc: 0.6402\n",
            "Epoch 16/30\n",
            "50000/50000 [==============================] - 222s 4ms/step - loss: 1.0721 - acc: 0.6253 - val_loss: 1.0293 - val_acc: 0.6408\n",
            "Epoch 17/30\n",
            "50000/50000 [==============================] - 220s 4ms/step - loss: 1.0464 - acc: 0.6349 - val_loss: 1.0299 - val_acc: 0.6368\n",
            "Epoch 18/30\n",
            "50000/50000 [==============================] - 220s 4ms/step - loss: 1.0302 - acc: 0.6402 - val_loss: 0.9877 - val_acc: 0.6548\n",
            "Epoch 19/30\n",
            "50000/50000 [==============================] - 220s 4ms/step - loss: 1.0066 - acc: 0.6496 - val_loss: 0.9834 - val_acc: 0.6567\n",
            "Epoch 20/30\n",
            "50000/50000 [==============================] - 220s 4ms/step - loss: 0.9870 - acc: 0.6545 - val_loss: 0.9619 - val_acc: 0.6688\n",
            "Epoch 21/30\n",
            "50000/50000 [==============================] - 220s 4ms/step - loss: 0.9646 - acc: 0.6644 - val_loss: 0.9470 - val_acc: 0.6702\n",
            "Epoch 22/30\n",
            "50000/50000 [==============================] - 220s 4ms/step - loss: 0.9464 - acc: 0.6728 - val_loss: 0.9288 - val_acc: 0.6771\n",
            "Epoch 23/30\n",
            "50000/50000 [==============================] - 221s 4ms/step - loss: 0.9285 - acc: 0.6792 - val_loss: 0.8973 - val_acc: 0.6846\n",
            "Epoch 24/30\n",
            "50000/50000 [==============================] - 220s 4ms/step - loss: 0.9156 - acc: 0.6833 - val_loss: 0.8888 - val_acc: 0.6911\n",
            "Epoch 25/30\n",
            "50000/50000 [==============================] - 220s 4ms/step - loss: 0.9009 - acc: 0.6886 - val_loss: 0.8926 - val_acc: 0.6906\n",
            "Epoch 26/30\n",
            "50000/50000 [==============================] - 220s 4ms/step - loss: 0.8840 - acc: 0.6931 - val_loss: 0.8695 - val_acc: 0.6977\n",
            "Epoch 27/30\n",
            "50000/50000 [==============================] - 220s 4ms/step - loss: 0.8673 - acc: 0.6992 - val_loss: 0.8655 - val_acc: 0.7011\n",
            "Epoch 28/30\n",
            "50000/50000 [==============================] - 220s 4ms/step - loss: 0.8535 - acc: 0.7057 - val_loss: 0.8505 - val_acc: 0.7063\n",
            "Epoch 29/30\n",
            "50000/50000 [==============================] - 220s 4ms/step - loss: 0.8334 - acc: 0.7088 - val_loss: 0.8469 - val_acc: 0.7106\n",
            "Epoch 30/30\n",
            "50000/50000 [==============================] - 219s 4ms/step - loss: 0.8224 - acc: 0.7156 - val_loss: 0.8369 - val_acc: 0.7113\n"
          ],
          "name": "stdout"
        },
        {
          "output_type": "execute_result",
          "data": {
            "text/plain": [
              "<keras.callbacks.History at 0x7fa09225e978>"
            ]
          },
          "metadata": {
            "tags": []
          },
          "execution_count": 50
        }
      ]
    },
    {
      "cell_type": "code",
      "metadata": {
        "id": "uuSdaQBap01W",
        "colab_type": "code",
        "colab": {
          "base_uri": "https://localhost:8080/",
          "height": 34
        },
        "outputId": "01e77e99-d1d5-4007-d4b2-cdf1245932c0"
      },
      "source": [
        "#accu = model.evaluate(X2_test,Y2_test, batch_size = 10)\n",
        "print(\"accuracy = {}\".format(0.7113))"
      ],
      "execution_count": 54,
      "outputs": [
        {
          "output_type": "stream",
          "text": [
            "accuracy = 0.7113\n"
          ],
          "name": "stdout"
        }
      ]
    }
  ]
}